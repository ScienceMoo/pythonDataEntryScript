{
 "cells": [
  {
   "cell_type": "code",
   "execution_count": 1,
   "id": "2b9d792e",
   "metadata": {},
   "outputs": [],
   "source": [
    "from tkinter import *\n",
    "import os\n",
    "import time\n",
    "from selenium import webdriver\n",
    "from selenium.webdriver.common.by import By\n",
    "from selenium.webdriver.support.wait import WebDriverWait\n",
    "from selenium.webdriver.chrome.options import Options\n",
    "from selenium.webdriver.support import expected_conditions as ExpectedConditions\n",
    "from selenium.webdriver.support.ui import Select\n",
    "import sys"
   ]
  },
  {
   "cell_type": "code",
   "execution_count": 2,
   "id": "07826e50",
   "metadata": {},
   "outputs": [],
   "source": [
    "root = Tk()\n",
    "is_polygon = BooleanVar()\n",
    "is_polygon.set(False)"
   ]
  },
  {
   "cell_type": "code",
   "execution_count": 3,
   "id": "1783fc45",
   "metadata": {},
   "outputs": [],
   "source": [
    "file_path = \"/Users/moo/NFTs-Upload-to-OpenSea/pics\"\n",
    "collection_link = \"https://opensea.io/collection/coleuspics\"\n",
    "start_num = 1\n",
    "end_num = 2"
   ]
  },
  {
   "cell_type": "code",
   "execution_count": 4,
   "id": "f015fa6f",
   "metadata": {},
   "outputs": [],
   "source": [
    "project_path = os.path.join(sys.path[0])\n",
    "opt = Options()\n",
    "# opt.add_experimental_option(\"debuggerAddress\", \"localhost:8989\")\n",
    "driver = webdriver.Chrome(\n",
    "    executable_path=project_path + \"/chromedriver\",\n",
    "    options=opt,\n",
    ")\n",
    "wait = WebDriverWait(driver, 60)\n",
    "\n",
    "###wait for methods\n",
    "def wait_css_selector(code):\n",
    "    wait.until(\n",
    "        ExpectedConditions.presence_of_element_located((By.CSS_SELECTOR, code))\n",
    "    )\n",
    "\n",
    "def wait_xpath(code):\n",
    "    wait.until(ExpectedConditions.presence_of_element_located((By.XPATH, code)))\n",
    "\n",
    "current_num = start_num"
   ]
  },
  {
   "cell_type": "code",
   "execution_count": 5,
   "id": "86426e4c",
   "metadata": {},
   "outputs": [],
   "source": [
    "driver.get(collection_link)\n",
    "time.sleep(3)"
   ]
  },
  {
   "cell_type": "code",
   "execution_count": 6,
   "id": "b4d80c33",
   "metadata": {},
   "outputs": [],
   "source": [
    "main_page = driver.current_window_handle"
   ]
  },
  {
   "cell_type": "code",
   "execution_count": 14,
   "id": "1b1831e3",
   "metadata": {},
   "outputs": [],
   "source": [
    "def main_program_loop():\n",
    "    current_num = start_num\n",
    "    while end_num >= current_num:\n",
    "        loop_title = \"Coleus #\" + str(current_num)\n",
    "        loop_file_format = \"jpeg\"\n",
    "        loop_description = \"Coleus #\" + str(current_num) + \" in the Coleus collection\"\n",
    "\n",
    "        print(\"Start creating NFT \" +  loop_title + str(current_num))\n",
    "        driver.get(collection_link)\n",
    "        # time.sleep(3)\n",
    "\n",
    "        wait_xpath('//*[@id=\"__next\"]/div[1]/main/div/div/div[1]/span/a')\n",
    "        additem = driver.find_element_by_xpath('//*[@id=\"__next\"]/div[1]/main/div/div/div[1]/span/a')\n",
    "        additem.click()\n",
    "        time.sleep(1)\n",
    "\n",
    "        wait_xpath('//*[@id=\"media\"]')\n",
    "        imageUpload = driver.find_element_by_xpath('//*[@id=\"media\"]')\n",
    "        imagePath = os.path.abspath(file_path + \"/\" + \"coleus\" + str(current_num) + \".\" + loop_file_format)  # change folder here\n",
    "        imageUpload.send_keys(imagePath)\n",
    "\n",
    "        name = driver.find_element_by_xpath('//*[@id=\"name\"]')\n",
    "        name.send_keys(loop_title)  # +1000 for other folders #change name before \"#\"\n",
    "        time.sleep(0.5)\n",
    "\n",
    "        desc = driver.find_element_by_xpath('//*[@id=\"description\"]')\n",
    "        desc.send_keys(loop_description)\n",
    "        time.sleep(0.5)\n",
    "\n",
    "        create = driver.find_element_by_xpath('//*[@id=\"__next\"]/div[1]/main/div/div/section/div[2]/form/div/div[1]/span/button')\n",
    "        driver.execute_script(\"arguments[0].click();\", create)\n",
    "        time.sleep(20)\n",
    "\n",
    "        wait_css_selector(\"i[aria-label='Close']\")\n",
    "        cross = driver.find_element_by_css_selector(\"i[aria-label='Close']\")\n",
    "        cross.click()\n",
    "        time.sleep(1)\n",
    "\n",
    "        # change control to main page\n",
    "        driver.switch_to.window(main_page)\n",
    "        time.sleep(1)\n",
    "\n",
    "        current_num = current_num + 1\n",
    "        print('NFT creation completed!')"
   ]
  },
  {
   "cell_type": "code",
   "execution_count": 15,
   "id": "a8de94ed",
   "metadata": {},
   "outputs": [
    {
     "name": "stdout",
     "output_type": "stream",
     "text": [
      "Start creating NFT Coleus #11\n",
      "NFT creation completed!\n",
      "Start creating NFT Coleus #22\n",
      "NFT creation completed!\n"
     ]
    }
   ],
   "source": [
    "main_program_loop()"
   ]
  }
 ],
 "metadata": {
  "kernelspec": {
   "display_name": "Python 3 (ipykernel)",
   "language": "python",
   "name": "python3"
  },
  "language_info": {
   "codemirror_mode": {
    "name": "ipython",
    "version": 3
   },
   "file_extension": ".py",
   "mimetype": "text/x-python",
   "name": "python",
   "nbconvert_exporter": "python",
   "pygments_lexer": "ipython3",
   "version": "3.10.2"
  }
 },
 "nbformat": 4,
 "nbformat_minor": 5
}
