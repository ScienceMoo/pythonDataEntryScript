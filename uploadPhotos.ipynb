{
 "cells": [
  {
   "cell_type": "code",
   "execution_count": 1,
   "id": "2b9d792e",
   "metadata": {},
   "outputs": [],
   "source": [
    "from tkinter import *\n",
    "import os\n",
    "import time\n",
    "from selenium import webdriver\n",
    "from selenium.webdriver.common.by import By\n",
    "from selenium.webdriver.support.wait import WebDriverWait\n",
    "from selenium.webdriver.chrome.options import Options\n",
    "from selenium.webdriver.support import expected_conditions as ExpectedConditions\n",
    "from selenium.webdriver.support.ui import Select\n",
    "import sys"
   ]
  },
  {
   "cell_type": "code",
   "execution_count": 8,
   "id": "72e2c1a8",
   "metadata": {},
   "outputs": [],
   "source": [
    "root = Tk()\n",
    "is_polygon = BooleanVar()\n",
    "is_polygon.set(False)"
   ]
  },
  {
   "cell_type": "code",
   "execution_count": 2,
   "id": "1783fc45",
   "metadata": {},
   "outputs": [],
   "source": [
    "file_path = \"/Users/moo/NFTs-Upload-to-OpenSea/pics\"\n",
    "collection_link = \"https://opensea.io/collection/coleuspics\"\n",
    "start_num = 1\n",
    "end_num = 2"
   ]
  },
  {
   "cell_type": "code",
   "execution_count": 3,
   "id": "dc526114",
   "metadata": {},
   "outputs": [],
   "source": [
    "project_path = os.path.join(sys.path[0])\n",
    "opt = Options()\n",
    "# opt.add_experimental_option(\"debuggerAddress\", \"localhost:8989\")\n",
    "driver = webdriver.Chrome(\n",
    "    executable_path=project_path + \"/chromedriver\",\n",
    "    options=opt,\n",
    ")\n",
    "wait = WebDriverWait(driver, 60)\n",
    "\n",
    "###wait for methods\n",
    "def wait_css_selector(code):\n",
    "    wait.until(\n",
    "        ExpectedConditions.presence_of_element_located((By.CSS_SELECTOR, code))\n",
    "    )\n",
    "\n",
    "def wait_xpath(code):\n",
    "    wait.until(ExpectedConditions.presence_of_element_located((By.XPATH, code)))\n",
    "\n",
    "current_num = start_num"
   ]
  },
  {
   "cell_type": "markdown",
   "id": "073b6f88",
   "metadata": {},
   "source": [
    "## test driver"
   ]
  },
  {
   "cell_type": "code",
   "execution_count": null,
   "id": "c3ebe38b",
   "metadata": {},
   "outputs": [],
   "source": [
    "driver.get(collection_link)\n",
    "# time.sleep(3)\n",
    "\n",
    "wait_xpath('//*[@id=\"__next\"]/div[1]/main/div/div/div[1]/span/a')\n",
    "additem = driver.find_element_by_xpath('//*[@id=\"__next\"]/div[1]/main/div/div/div[1]/span/a')\n",
    "additem.click()\n",
    "time.sleep(1)\n",
    "\n",
    "wait_xpath('//*[@id=\"media\"]')\n",
    "imageUpload = driver.find_element_by_xpath('//*[@id=\"media\"]')\n",
    "imagePath = os.path.abspath(file_path + \"/\" + \"coleus\" + str(current_num) + \".\" + loop_file_format)  # change folder here\n",
    "imageUpload.send_keys(imagePath)"
   ]
  },
  {
   "cell_type": "code",
   "execution_count": 10,
   "id": "ca12fd52",
   "metadata": {},
   "outputs": [],
   "source": [
    "def main_program_loop():\n",
    "    while end_num >= current_num:\n",
    "        loop_title = \"Coleus #\" + current_num\n",
    "        loop_file_format = \"jpeg\"\n",
    "        loop_description = \"Coleus #\" + current_num + \" in the Coleus collection\"\n",
    "\n",
    "        print(\"Start creating NFT \" +  loop_title + str(current_num))\n",
    "        driver.get(collection_link)\n",
    "        # time.sleep(3)\n",
    "\n",
    "        wait_xpath('//*[@id=\"__next\"]/div[1]/main/div/div/div[1]/span/a')\n",
    "        additem = driver.find_element_by_xpath('//*[@id=\"__next\"]/div[1]/main/div/div/div[1]/span/a')\n",
    "        additem.click()\n",
    "        time.sleep(1)\n",
    "\n",
    "        wait_xpath('//*[@id=\"media\"]')\n",
    "        imageUpload = driver.find_element_by_xpath('//*[@id=\"media\"]')\n",
    "        imagePath = os.path.abspath(file_path + \"/\" + \"coleus\" + str(current_num) + \".\" + loop_file_format)  # change folder here\n",
    "        imageUpload.send_keys(imagePath)\n",
    "\n",
    "        name = driver.find_element_by_xpath('//*[@id=\"name\"]')\n",
    "        name.send_keys(loop_title)  # +1000 for other folders #change name before \"#\"\n",
    "        time.sleep(0.5)\n",
    "\n",
    "        desc = driver.find_element_by_xpath('//*[@id=\"description\"]')\n",
    "        desc.send_keys(loop_description)\n",
    "        time.sleep(0.5)\n",
    "\n",
    "        # Select Polygon blockchain if applicable\n",
    "        if is_polygon.get():\n",
    "            blockchain_button = driver.find_element(By.XPATH, '//*[@id=\"__next\"]/div[1]/main/div/div/section/div/form/div[7]/div/div[2]')\n",
    "            blockchain_button.click()\n",
    "            polygon_button_location = '//span[normalize-space() = \"Mumbai\"]'\n",
    "            wait.until(ExpectedConditions.presence_of_element_located(\n",
    "                (By.XPATH, polygon_button_location)))\n",
    "            polygon_button = driver.find_element(\n",
    "                By.XPATH, polygon_button_location)\n",
    "            polygon_button.click()\n",
    "\n",
    "        create = driver.find_element_by_xpath('//*[@id=\"__next\"]/div[1]/main/div/div/section/div[2]/form/div/div[1]/span/button')\n",
    "        driver.execute_script(\"arguments[0].click();\", create)\n",
    "        time.sleep(1)\n",
    "\n",
    "        wait_css_selector(\"i[aria-label='Close']\")\n",
    "        cross = driver.find_element_by_css_selector(\"i[aria-label='Close']\")\n",
    "        cross.click()\n",
    "        time.sleep(1)\n",
    "\n",
    "        main_page = driver.current_window_handle\n",
    "        \n",
    "        # change control to main page\n",
    "        driver.switch_to.window(main_page)\n",
    "        time.sleep(1)\n",
    "\n",
    "        current_num = current_num + 1\n",
    "        print('NFT creation completed!')"
   ]
  },
  {
   "cell_type": "code",
   "execution_count": 4,
   "id": "ce099d45",
   "metadata": {},
   "outputs": [
    {
     "ename": "TimeoutException",
     "evalue": "Message: \n",
     "output_type": "error",
     "traceback": [
      "\u001b[0;31m---------------------------------------------------------------------------\u001b[0m",
      "\u001b[0;31mTimeoutException\u001b[0m                          Traceback (most recent call last)",
      "Input \u001b[0;32mIn [4]\u001b[0m, in \u001b[0;36m<module>\u001b[0;34m\u001b[0m\n\u001b[1;32m      1\u001b[0m driver\u001b[38;5;241m.\u001b[39mget(collection_link)\n\u001b[1;32m      2\u001b[0m \u001b[38;5;66;03m# time.sleep(3)\u001b[39;00m\n\u001b[0;32m----> 4\u001b[0m \u001b[43mwait_xpath\u001b[49m\u001b[43m(\u001b[49m\u001b[38;5;124;43m'\u001b[39;49m\u001b[38;5;124;43m//*[@id=\u001b[39;49m\u001b[38;5;124;43m\"\u001b[39;49m\u001b[38;5;124;43m__next\u001b[39;49m\u001b[38;5;124;43m\"\u001b[39;49m\u001b[38;5;124;43m]/div[1]/main/div/div/div[1]/span/a\u001b[39;49m\u001b[38;5;124;43m'\u001b[39;49m\u001b[43m)\u001b[49m\n\u001b[1;32m      5\u001b[0m additem \u001b[38;5;241m=\u001b[39m driver\u001b[38;5;241m.\u001b[39mfind_element_by_xpath(\u001b[38;5;124m'\u001b[39m\u001b[38;5;124m//*[@id=\u001b[39m\u001b[38;5;124m\"\u001b[39m\u001b[38;5;124m__next\u001b[39m\u001b[38;5;124m\"\u001b[39m\u001b[38;5;124m]/div[1]/main/div/div/div[1]/span/a\u001b[39m\u001b[38;5;124m'\u001b[39m)\n\u001b[1;32m      6\u001b[0m additem\u001b[38;5;241m.\u001b[39mclick()\n",
      "Input \u001b[0;32mIn [3]\u001b[0m, in \u001b[0;36mwait_xpath\u001b[0;34m(code)\u001b[0m\n\u001b[1;32m     16\u001b[0m \u001b[38;5;28;01mdef\u001b[39;00m \u001b[38;5;21mwait_xpath\u001b[39m(code):\n\u001b[0;32m---> 17\u001b[0m     \u001b[43mwait\u001b[49m\u001b[38;5;241;43m.\u001b[39;49m\u001b[43muntil\u001b[49m\u001b[43m(\u001b[49m\u001b[43mExpectedConditions\u001b[49m\u001b[38;5;241;43m.\u001b[39;49m\u001b[43mpresence_of_element_located\u001b[49m\u001b[43m(\u001b[49m\u001b[43m(\u001b[49m\u001b[43mBy\u001b[49m\u001b[38;5;241;43m.\u001b[39;49m\u001b[43mXPATH\u001b[49m\u001b[43m,\u001b[49m\u001b[43m \u001b[49m\u001b[43mcode\u001b[49m\u001b[43m)\u001b[49m\u001b[43m)\u001b[49m\u001b[43m)\u001b[49m\n",
      "File \u001b[0;32m~/Documents/github/pythonDataEntryScript/.venv/lib/python3.10/site-packages/selenium/webdriver/support/wait.py:80\u001b[0m, in \u001b[0;36mWebDriverWait.until\u001b[0;34m(self, method, message)\u001b[0m\n\u001b[1;32m     78\u001b[0m     \u001b[38;5;28;01mif\u001b[39;00m time\u001b[38;5;241m.\u001b[39mtime() \u001b[38;5;241m>\u001b[39m end_time:\n\u001b[1;32m     79\u001b[0m         \u001b[38;5;28;01mbreak\u001b[39;00m\n\u001b[0;32m---> 80\u001b[0m \u001b[38;5;28;01mraise\u001b[39;00m TimeoutException(message, screen, stacktrace)\n",
      "\u001b[0;31mTimeoutException\u001b[0m: Message: \n"
     ]
    }
   ],
   "source": []
  }
 ],
 "metadata": {
  "kernelspec": {
   "display_name": "Python 3 (ipykernel)",
   "language": "python",
   "name": "python3"
  },
  "language_info": {
   "codemirror_mode": {
    "name": "ipython",
    "version": 3
   },
   "file_extension": ".py",
   "mimetype": "text/x-python",
   "name": "python",
   "nbconvert_exporter": "python",
   "pygments_lexer": "ipython3",
   "version": "3.10.2"
  }
 },
 "nbformat": 4,
 "nbformat_minor": 5
}
